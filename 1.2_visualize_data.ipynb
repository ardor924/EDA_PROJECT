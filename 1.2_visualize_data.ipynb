{
 "cells": [
  {
   "cell_type": "code",
   "execution_count": 9,
   "metadata": {},
   "outputs": [],
   "source": [
    "#========================================================================================================\n",
    "#                                          #  데이터 시각화\n",
    "#========================================================================================================"
   ]
  },
  {
   "cell_type": "code",
   "execution_count": 10,
   "metadata": {},
   "outputs": [
    {
     "name": "stdout",
     "output_type": "stream",
     "text": [
      "The autoreload extension is already loaded. To reload it, use:\n",
      "  %reload_ext autoreload\n"
     ]
    }
   ],
   "source": [
    "#========================================================================================================#\n",
    "#                                                  기본세팅                                              #\n",
    "#========================================================================================================#\n",
    "\n",
    "# I. 모듈 자동 리로드\n",
    "# II. 항시적용모듈\n",
    "# III. 파싱을위한모듈\n",
    "# IV. 한글폰트세팅 \n",
    "# V. sns테마설정\n",
    "# VI. API세팅\n",
    "# VII. 객체 인스턴스 생성\n",
    "\n",
    "#--------------------------------------------------------------------------------------------------------\n",
    "#                                             I. 모듈 자동 리로드\n",
    "#--------------------------------------------------------------------------------------------------------\n",
    "%load_ext autoreload\n",
    "%autoreload 2\n",
    "\n",
    "#--------------------------------------------------------------------------------------------------------\n",
    "#                                             II. 항시적용모듈 \n",
    "#--------------------------------------------------------------------------------------------------------\n",
    "import numpy as np\n",
    "import pandas as pd\n",
    "import matplotlib.pyplot as plt\n",
    "import seaborn as sns\n",
    "import matplotlib\n",
    "import matplotlib.font_manager as fm\n",
    "\n",
    "from utils import *\n",
    "\n",
    "\n",
    "#--------------------------------------------------------------------------------------------------------\n",
    "#                                           III. 파싱을위한모듈 \n",
    "#--------------------------------------------------------------------------------------------------------\n",
    "import csv\n",
    "import json\n",
    "\n",
    "from urllib import parse\n",
    "import requests\n",
    "from bs4 import BeautifulSoup\n",
    "\n",
    "\n",
    "from youtubeApi import YoutubeApi\n",
    "from countryCodeAPI import CountryCodeApi\n",
    "\n",
    "from tqdm import tqdm\n",
    "\n",
    "from collections import OrderedDict\n",
    "\n"
   ]
  },
  {
   "cell_type": "code",
   "execution_count": 12,
   "metadata": {},
   "outputs": [],
   "source": [
    "# 1) 유튜브 CSV 파일 로드(데이터프레임)\n",
    "#------------------\n",
    "youtubeDataFrame =  pd.read_csv('./resultData/youtubeDataFrame.csv')\n",
    "youtubeDataFrame\n",
    "\n",
    "\n",
    "# 2) 아시아 방문객 정보 가져오기\n",
    "asia_data = pd.read_csv('./sourceData/asia_data_kor.csv')\n",
    "asia_data['Year'].fillna(method='ffill', inplace=True)\n",
    "\n"
   ]
  },
  {
   "cell_type": "code",
   "execution_count": 13,
   "metadata": {},
   "outputs": [
    {
     "name": "stdout",
     "output_type": "stream",
     "text": [
      "<class 'pandas.core.frame.DataFrame'>\n",
      "RangeIndex: 1 entries, 0 to 0\n",
      "Data columns (total 14 columns):\n",
      " #   Column                Non-Null Count  Dtype  \n",
      "---  ------                --------------  -----  \n",
      " 0   publishedAt           1 non-null      object \n",
      " 1   channelId             1 non-null      object \n",
      " 2   title                 1 non-null      object \n",
      " 3   description           1 non-null      object \n",
      " 4   thumbnails            1 non-null      object \n",
      " 5   channelTitle          1 non-null      object \n",
      " 6   liveBroadcastContent  1 non-null      object \n",
      " 7   publishTime           1 non-null      object \n",
      " 8   videoId               1 non-null      object \n",
      " 9   viewCount             1 non-null      int64  \n",
      " 10  likeCount             1 non-null      int64  \n",
      " 11  favoriteCount         1 non-null      int64  \n",
      " 12  commentCount          1 non-null      int64  \n",
      " 13  country               0 non-null      float64\n",
      "dtypes: float64(1), int64(4), object(9)\n",
      "memory usage: 240.0+ bytes\n"
     ]
    }
   ],
   "source": [
    "# 3) 유튜브 데이터 정보조회\n",
    "#------------------\n",
    "youtubeDataFrame.info()"
   ]
  },
  {
   "cell_type": "code",
   "execution_count": 14,
   "metadata": {},
   "outputs": [
    {
     "name": "stdout",
     "output_type": "stream",
     "text": [
      "2022\n",
      "8\n"
     ]
    }
   ],
   "source": [
    "# 4) 날짜 타입 변환(유튜브 영상 날짜 Y/M 추출)\n",
    "#------------------\n",
    "pubdate = pd.to_datetime(youtubeDataFrame['publishedAt'])\n",
    "year = pubdate.dt.year.values[0] # 유튜브 영상 년도\n",
    "month = pubdate.dt.month.values[0] # 유튜브 영상 월\n",
    "print(year)\n",
    "print(month)\n"
   ]
  },
  {
   "cell_type": "code",
   "execution_count": 15,
   "metadata": {},
   "outputs": [
    {
     "ename": "NameError",
     "evalue": "name 'fm' is not defined",
     "output_type": "error",
     "traceback": [
      "\u001b[1;31m---------------------------------------------------------------------------\u001b[0m",
      "\u001b[1;31mNameError\u001b[0m                                 Traceback (most recent call last)",
      "\u001b[1;32mc:\\Users\\TETRA\\Desktop\\EDA팀프로젝트\\workSpace\\1.2_visualize_data.ipynb Cell 6\u001b[0m in \u001b[0;36m<cell line: 4>\u001b[1;34m()\u001b[0m\n\u001b[0;32m      <a href='vscode-notebook-cell:/c%3A/Users/TETRA/Desktop/EDA%ED%8C%80%ED%94%84%EB%A1%9C%EC%A0%9D%ED%8A%B8/workSpace/1.2_visualize_data.ipynb#W5sZmlsZQ%3D%3D?line=0'>1</a>\u001b[0m \u001b[39m# 5) 데이터 시각화(일본 방문자수 추이)\u001b[39;00m\n\u001b[0;32m      <a href='vscode-notebook-cell:/c%3A/Users/TETRA/Desktop/EDA%ED%8C%80%ED%94%84%EB%A1%9C%EC%A0%9D%ED%8A%B8/workSpace/1.2_visualize_data.ipynb#W5sZmlsZQ%3D%3D?line=1'>2</a>\u001b[0m \u001b[39m#------------------\u001b[39;00m\n\u001b[0;32m      <a href='vscode-notebook-cell:/c%3A/Users/TETRA/Desktop/EDA%ED%8C%80%ED%94%84%EB%A1%9C%EC%A0%9D%ED%8A%B8/workSpace/1.2_visualize_data.ipynb#W5sZmlsZQ%3D%3D?line=2'>3</a>\u001b[0m font_location \u001b[39m=\u001b[39m \u001b[39m\"\u001b[39m\u001b[39mC:\u001b[39m\u001b[39m\\\\\u001b[39;00m\u001b[39mWindows\u001b[39m\u001b[39m\\\\\u001b[39;00m\u001b[39mFonts\u001b[39m\u001b[39m\\\\\u001b[39;00m\u001b[39mMalgun.ttf\u001b[39m\u001b[39m\"\u001b[39m\n\u001b[1;32m----> <a href='vscode-notebook-cell:/c%3A/Users/TETRA/Desktop/EDA%ED%8C%80%ED%94%84%EB%A1%9C%EC%A0%9D%ED%8A%B8/workSpace/1.2_visualize_data.ipynb#W5sZmlsZQ%3D%3D?line=3'>4</a>\u001b[0m font_name \u001b[39m=\u001b[39m fm\u001b[39m.\u001b[39mFontProperties(fname\u001b[39m=\u001b[39mfont_location)\u001b[39m.\u001b[39mget_name()\n\u001b[0;32m      <a href='vscode-notebook-cell:/c%3A/Users/TETRA/Desktop/EDA%ED%8C%80%ED%94%84%EB%A1%9C%EC%A0%9D%ED%8A%B8/workSpace/1.2_visualize_data.ipynb#W5sZmlsZQ%3D%3D?line=5'>6</a>\u001b[0m matplotlib\u001b[39m.\u001b[39mrc(\u001b[39m'\u001b[39m\u001b[39mfont\u001b[39m\u001b[39m'\u001b[39m,family\u001b[39m=\u001b[39mfont_name)\n\u001b[0;32m      <a href='vscode-notebook-cell:/c%3A/Users/TETRA/Desktop/EDA%ED%8C%80%ED%94%84%EB%A1%9C%EC%A0%9D%ED%8A%B8/workSpace/1.2_visualize_data.ipynb#W5sZmlsZQ%3D%3D?line=7'>8</a>\u001b[0m plt\u001b[39m.\u001b[39mfigure(figsize\u001b[39m=\u001b[39m(\u001b[39m16\u001b[39m, \u001b[39m9\u001b[39m))\n",
      "\u001b[1;31mNameError\u001b[0m: name 'fm' is not defined"
     ]
    }
   ],
   "source": [
    "# 5) 데이터 시각화(일본 방문자수 추이)\n",
    "#------------------\n",
    "font_location = \"C:\\\\Windows\\\\Fonts\\\\Malgun.ttf\"\n",
    "font_name = fm.FontProperties(fname=font_location).get_name()\n",
    "\n",
    "matplotlib.rc('font',family=font_name)\n",
    "\n",
    "plt.figure(figsize=(16, 9))\n",
    "sns.lineplot(data = asia_data, x=\"Year\",y=\"Japan_total\",color='green')\n",
    "plt.xlabel('Year')\n",
    "plt.ylabel('total visit of japan')\n",
    "plt.ylim(0, 3000000)\n",
    "plt.xlim(0, 19)\n",
    "plt.title('japan travel')\n",
    "plt.xticks(rotation=45)\n",
    "plt.tight_layout()\n",
    "plt.show()"
   ]
  },
  {
   "cell_type": "code",
   "execution_count": null,
   "metadata": {},
   "outputs": [],
   "source": []
  },
  {
   "cell_type": "code",
   "execution_count": null,
   "metadata": {},
   "outputs": [],
   "source": []
  }
 ],
 "metadata": {
  "kernelspec": {
   "display_name": "EDA",
   "language": "python",
   "name": "python3"
  },
  "language_info": {
   "codemirror_mode": {
    "name": "ipython",
    "version": 3
   },
   "file_extension": ".py",
   "mimetype": "text/x-python",
   "name": "python",
   "nbconvert_exporter": "python",
   "pygments_lexer": "ipython3",
   "version": "3.9.1"
  },
  "orig_nbformat": 4
 },
 "nbformat": 4,
 "nbformat_minor": 2
}
